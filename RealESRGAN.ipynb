{
 "cells": [
  {
   "cell_type": "markdown",
   "metadata": {},
   "source": [
    "Based on this paper:\n",
    "\n",
    "Real-ESRGAN: Training Real-World Blind Super-Resolution with Pure Synthetic Data\n",
    "\n",
    "https://arxiv.org/abs/2107.10833"
   ]
  },
  {
   "cell_type": "markdown",
   "metadata": {},
   "source": [
    "# Instructions:"
   ]
  },
  {
   "cell_type": "code",
   "execution_count": null,
   "metadata": {},
   "outputs": [],
   "source": [
    "# clone Real-ESRGAN Repo\n",
    "!git clone https://github.com/xinntao/Real-ESRGAN.git"
   ]
  },
  {
   "cell_type": "code",
   "execution_count": null,
   "metadata": {
    "execution": {
     "iopub.execute_input": "2022-07-04T06:34:59.685027Z",
     "iopub.status.busy": "2022-07-04T06:34:59.684608Z",
     "iopub.status.idle": "2022-07-04T06:36:16.648583Z",
     "shell.execute_reply": "2022-07-04T06:36:16.647143Z",
     "shell.execute_reply.started": "2022-07-04T06:34:59.684991Z"
    },
    "trusted": true
   },
   "outputs": [],
   "source": [
    "%cd Real-ESRGAN"
   ]
  },
  {
   "cell_type": "code",
   "execution_count": null,
   "metadata": {},
   "outputs": [],
   "source": [
    "# Install basicsr - https://github.com/xinntao/BasicSR\n",
    "# We use BasicSR for both training and inference\n",
    "!pip install basicsr\n",
    "# facexlib and gfpgan are for face enhancement\n",
    "!pip install facexlib\n",
    "!pip install gfpgan\n",
    "!pip install -r requirements.txt\n",
    "!python setup.py develop"
   ]
  },
  {
   "cell_type": "code",
   "execution_count": null,
   "metadata": {},
   "outputs": [],
   "source": [
    "import os\n",
    "from PIL import Image\n",
    "import numpy as np\n",
    "from skimage.metrics import peak_signal_noise_ratio, structural_similarity\n",
    "from torchvision.transforms.functional import rgb_to_grayscale"
   ]
  },
  {
   "cell_type": "code",
   "execution_count": null,
   "metadata": {},
   "outputs": [],
   "source": [
    "test_dir = '../data/DIV2K_valid_LR_bicubic_X4_extracted/DIV2K_valid_LR_bicubic/X4/'\n",
    "test_hr_dir = '../data/DIV2K_valid_HR_extracted/DIV2K_valid_HR'\n",
    "results_dir = '../results'"
   ]
  },
  {
   "cell_type": "code",
   "execution_count": null,
   "metadata": {},
   "outputs": [],
   "source": [
    "def upscale_image(image_path, model_path):\n",
    "    \"\"\"Upscales a single image using the Real-ESRGAN model.\"\"\"\n",
    "    upscaled_path = os.path.join(results_dir, os.path.basename(image_path))\n",
    "    # -s 4 for x4 scale\n",
    "    os.system(f'python inference_realesrgan.py -i {image_path} -o {results_dir} -n {model_path} -s 4')\n",
    "    return upscaled_path\n",
    "\n",
    "def evaluate_image(upscaled_path, hr_path):\n",
    "    \"\"\"Calculates PSNR and SSIM between upscaled and HR images.\"\"\"\n",
    "    upscaled_img = np.array(Image.open(upscaled_path).convert(\"RGB\"))\n",
    "    hr_img = np.array(Image.open(hr_path).convert(\"RGB\"))\n",
    "\n",
    "    psnr = peak_signal_noise_ratio(hr_img, upscaled_img, data_range=255)\n",
    "    ssim = structural_similarity(hr_img, upscaled_img, multichannel=True, data_range=255)\n",
    "    return psnr, ssim"
   ]
  },
  {
   "cell_type": "code",
   "execution_count": null,
   "metadata": {},
   "outputs": [],
   "source": [
    "model_path = 'experiments/pretrained_models/RealESRGAN_x4plus.pth'"
   ]
  },
  {
   "cell_type": "code",
   "execution_count": null,
   "metadata": {},
   "outputs": [],
   "source": [
    "psnr_values = []\n",
    "ssim_values = []\n",
    "\n",
    "for filename in os.listdir(test_dir):\n",
    "    if filename.endswith(('.png')):\n",
    "        lr_path = os.path.join(test_dir, filename)\n",
    "        hr_filename = filename.replace('x4', '')\n",
    "        hr_path = os.path.join(test_hr_dir, hr_filename)\n",
    "\n",
    "        if os.path.exists(hr_path):\n",
    "            print(f\"Upscaling: {filename}\")\n",
    "            upscaled_path = upscale_image(lr_path, model_path)\n",
    "            \n",
    "            print(f\"Evaluating: {filename}\")\n",
    "            psnr, ssim = evaluate_image(upscaled_path, hr_path)\n",
    "            psnr_values.append(psnr)\n",
    "            ssim_values.append(ssim)\n",
    "\n",
    "            print(f\"PSNR: {psnr:.2f}, SSIM: {ssim:.4f}\")"
   ]
  },
  {
   "cell_type": "code",
   "execution_count": null,
   "metadata": {},
   "outputs": [],
   "source": [
    "avg_psnr = np.mean(psnr_values)\n",
    "avg_ssim = np.mean(ssim_values)\n",
    "\n",
    "print(f\"\\nAverage PSNR: {avg_psnr:.2f}\")\n",
    "print(f\"Average SSIM: {avg_ssim:.4f}\")"
   ]
  },
  {
   "cell_type": "code",
   "execution_count": null,
   "metadata": {
    "execution": {
     "iopub.execute_input": "2022-07-04T06:36:16.651834Z",
     "iopub.status.busy": "2022-07-04T06:36:16.650951Z",
     "iopub.status.idle": "2022-07-04T06:36:16.811314Z",
     "shell.execute_reply": "2022-07-04T06:36:16.810342Z",
     "shell.execute_reply.started": "2022-07-04T06:36:16.651791Z"
    },
    "trusted": true
   },
   "outputs": [],
   "source": [
    "import cv2\n",
    "import numpy as np\n",
    "import os\n",
    "import glob\n",
    "import matplotlib.pyplot as plt\n",
    "from pathlib import Path"
   ]
  },
  {
   "cell_type": "markdown",
   "metadata": {},
   "source": [
    "### Preparing the Images"
   ]
  },
  {
   "cell_type": "code",
   "execution_count": null,
   "metadata": {
    "execution": {
     "iopub.execute_input": "2022-07-04T06:36:16.813239Z",
     "iopub.status.busy": "2022-07-04T06:36:16.812878Z",
     "iopub.status.idle": "2022-07-04T06:36:17.503760Z",
     "shell.execute_reply": "2022-07-04T06:36:17.502752Z",
     "shell.execute_reply.started": "2022-07-04T06:36:16.813200Z"
    },
    "trusted": true
   },
   "outputs": [],
   "source": [
    "test_dir = '../data/DIV2K_valid_LR_bicubic_X4_extracted/DIV2K_valid_LR_bicubic/X4/'\n",
    "output_dir = '../ESRGAN_Test_Images/'\n",
    "\n",
    "# create directories if they don't exist\n",
    "os.makedirs(output_dir + \"hr_images\", exist_ok=True)\n",
    "os.makedirs(output_dir + \"lr_images\", exist_ok=True)\n",
    "\n",
    "def is_image_file(filename):\n",
    "    return any(filename.endswith(extension) for extension in ['.png', '.jpg', '.jpeg', '.PNG', '.JPG', '.JPEG'])\n",
    "\n",
    "for img in os.listdir(test_dir)[0:10]:\n",
    "    if is_image_file(img):\n",
    "        img_array = cv2.imread(test_dir + img)\n",
    "        img_array = cv2.resize(img_array, (128,128))\n",
    "        lr_img_array = cv2.resize(img_array,(32,32))\n",
    "        cv2.imwrite(output_dir+ \"hr_images/\" + img, img_array)\n",
    "        cv2.imwrite(output_dir+ \"lr_images/\"+ img, lr_img_array)"
   ]
  },
  {
   "cell_type": "markdown",
   "metadata": {},
   "source": [
    "### Model Prediction"
   ]
  },
  {
   "cell_type": "code",
   "execution_count": null,
   "metadata": {},
   "outputs": [],
   "source": [
    "model_path = Path('experiments/pretrained_models/RealESRGAN_x4plus.pth')\n",
    "input_dir = Path('../ESRGAN_Test_Images/lr_images')\n",
    "output_dir = Path('../results')\n",
    "\n",
    "def create_directory(path):\n",
    "    if not path.exists():\n",
    "        os.makedirs(path)\n",
    "\n",
    "create_directory(output_dir)\n",
    "\n",
    "try:\n",
    "    # Run inference command\n",
    "    os.system(f\"python inference_realesrgan.py -n {model_path} -i {input_dir} -o {output_dir} --outscale 8 --face_enhance\")\n",
    "    \n",
    "    print(\"Inference completed successfully.\")\n",
    "except Exception as e:\n",
    "    print(f\"An error occurred: {str(e)}\")"
   ]
  },
  {
   "cell_type": "code",
   "execution_count": null,
   "metadata": {
    "execution": {
     "iopub.execute_input": "2022-07-04T07:31:17.730908Z",
     "iopub.status.busy": "2022-07-04T07:31:17.730552Z",
     "iopub.status.idle": "2022-07-04T07:31:26.539113Z",
     "shell.execute_reply": "2022-07-04T07:31:26.537968Z",
     "shell.execute_reply.started": "2022-07-04T07:31:17.730880Z"
    },
    "trusted": true
   },
   "outputs": [],
   "source": [
    "!python inference_realesrgan.py -n RealESRGAN_x4plus -i '../ESRGAN_Test_Images/lr_images' -o '../results' --outscale 8 --face_enhance"
   ]
  },
  {
   "cell_type": "markdown",
   "metadata": {},
   "source": [
    "### Image Visualization"
   ]
  },
  {
   "cell_type": "code",
   "execution_count": null,
   "metadata": {
    "execution": {
     "iopub.execute_input": "2022-07-04T07:46:43.032848Z",
     "iopub.status.busy": "2022-07-04T07:46:43.031907Z",
     "iopub.status.idle": "2022-07-04T07:46:44.420926Z",
     "shell.execute_reply": "2022-07-04T07:46:44.420022Z",
     "shell.execute_reply.started": "2022-07-04T07:46:43.032810Z"
    },
    "trusted": true
   },
   "outputs": [],
   "source": [
    "def display(img1, img2, img3):\n",
    "    \n",
    "  fig = plt.figure(figsize=(15, 5))\n",
    "\n",
    "  ax1 = fig.add_subplot(1, 3, 1) \n",
    "  plt.title('Input image', fontsize=16)\n",
    "  ax1.axis('off')\n",
    "  ax2 = fig.add_subplot(1, 3, 2)\n",
    "  plt.title('Real-ESRGAN output', fontsize=16)\n",
    "  ax2.axis('off')\n",
    "  ax3 = fig.add_subplot(1, 3, 3)\n",
    "  plt.title('Original Image', fontsize=16)\n",
    "  ax3.axis('off')\n",
    "  ax1.imshow(img1)\n",
    "  ax2.imshow(img2)\n",
    "  ax3.imshow(img3)\n",
    "  plt.show()\n",
    "\n",
    "def imread(img_path):\n",
    "  img = cv2.imread(img_path)\n",
    "  img = cv2.cvtColor(img, cv2.COLOR_BGR2RGB)\n",
    "  return img"
   ]
  },
  {
   "cell_type": "code",
   "execution_count": null,
   "metadata": {},
   "outputs": [],
   "source": [
    "\n",
    "input_folder = '../ESRGAN_Test_Images/lr_images'\n",
    "original_folder = '../ESRGAN_Test_Images/hr_images'\n",
    "result_folder = '../results'\n",
    "input_list = sorted(glob.glob(os.path.join(input_folder, '*')))\n",
    "original_list = sorted(glob.glob(os.path.join(original_folder, '*')))\n",
    "output_list = sorted(glob.glob(os.path.join(result_folder, '*')))\n",
    "\n",
    "demo_inp_list = input_list[0:5]\n",
    "demo_original_list = original_list[0:5]\n",
    "demo_out_list = output_list[0:5]\n",
    "\n",
    "\n",
    "for input_path,original_path,output_path in zip(demo_inp_list,demo_original_list,demo_out_list):\n",
    "  img_input = imread(input_path)\n",
    "  img_output = imread(output_path)\n",
    "  img_original = imread(original_path)\n",
    "  display(img_input,img_output,img_original)"
   ]
  }
 ],
 "metadata": {
  "kernelspec": {
   "display_name": "super_res",
   "language": "python",
   "name": "python3"
  },
  "language_info": {
   "codemirror_mode": {
    "name": "ipython",
    "version": 3
   },
   "file_extension": ".py",
   "mimetype": "text/x-python",
   "name": "python",
   "nbconvert_exporter": "python",
   "pygments_lexer": "ipython3",
   "version": "3.12.3"
  }
 },
 "nbformat": 4,
 "nbformat_minor": 4
}
