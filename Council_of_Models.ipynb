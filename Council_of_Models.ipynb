{
 "cells": [
  {
   "cell_type": "markdown",
   "metadata": {},
   "source": [
    "This script will compare the performance of these models:\n",
    "\n",
    "RDN, RRDN, EDSR, SRGAN, RealESRGAN, CycleGAN, DRCT."
   ]
  },
  {
   "cell_type": "code",
   "execution_count": 2,
   "metadata": {},
   "outputs": [],
   "source": [
    "import pandas as pd\n",
    "import os\n",
    "from tensorflow.image import ssim, psnr\n",
    "import tensorflow as tf\n",
    "import tensorflow.keras.layers as layers\n",
    "from tensorflow.keras import Model\n",
    "import numpy as np\n",
    "import matplotlib.pyplot as plt\n",
    "from PIL import Image\n",
    "import random\n",
    "from istari_tools import (create_test_dataset,\n",
    "                          calculate_metrics,\n",
    "                          create_dataset,\n",
    "                          load_and_preprocess_valid_data)\n",
    "from mithril_sharp import (build_rdn,\n",
    "                           build_rrdn,\n",
    "                           build_edsr,\n",
    "                           build_srgan_generator,\n",
    "                           build_real_esrgan_generator,\n",
    "                           build_cyclegan_generator,\n",
    "                           build_drct_decoder,\n",
    "                           build_drct_encoder)\n"
   ]
  },
  {
   "cell_type": "code",
   "execution_count": 3,
   "metadata": {},
   "outputs": [],
   "source": [
    "lr_dir = './data/DIV2K_train_LR_bicubic_X4_extracted/DIV2K_train_LR_bicubic/X4'\n",
    "hr_dir = './data/DIV2K_train_HR_extracted/DIV2K_train_HR'\n",
    "\n",
    "test_lr_dir = './data/DIV2K_valid_LR_bicubic_X4_extracted/DIV2K_valid_LR_bicubic/X4'\n",
    "test_hr_dir = './data/DIV2K_valid_HR_extracted/DIV2K_valid_HR'"
   ]
  },
  {
   "cell_type": "code",
   "execution_count": 4,
   "metadata": {},
   "outputs": [],
   "source": [
    "image_size = 256\n",
    "scale_factor = 4\n",
    "batch_size = 16\n",
    "num_train_images = 800"
   ]
  },
  {
   "cell_type": "code",
   "execution_count": 5,
   "metadata": {},
   "outputs": [
    {
     "name": "stdout",
     "output_type": "stream",
     "text": [
      "Found 800 files.\n"
     ]
    },
    {
     "name": "stderr",
     "output_type": "stream",
     "text": [
      "2024-11-02 18:12:06.166279: E external/local_xla/xla/stream_executor/cuda/cuda_driver.cc:152] failed call to cuInit: INTERNAL: CUDA error: Failed call to cuInit: UNKNOWN ERROR (303)\n"
     ]
    }
   ],
   "source": [
    "train_dataset = tf.keras.utils.image_dataset_from_directory(\n",
    "    lr_dir,\n",
    "    labels=\"inferred\",\n",
    "    label_mode=None, \n",
    "    image_size=(image_size // scale_factor, image_size // scale_factor),\n",
    "    batch_size=batch_size,\n",
    "    shuffle=True\n",
    ")\n",
    "\n",
    "train_dataset = train_dataset.map(\n",
    "    lambda x: (x, tf.image.resize(x, (image_size, image_size)))\n",
    ")"
   ]
  },
  {
   "cell_type": "code",
   "execution_count": 6,
   "metadata": {},
   "outputs": [],
   "source": [
    "# split 80% for training 20% for validation\n",
    "train_size = int(0.8 * len(train_dataset))\n",
    "\n",
    "train_dataset = train_dataset.take(train_size)\n",
    "val_dataset = train_dataset.skip(train_size)"
   ]
  },
  {
   "cell_type": "markdown",
   "metadata": {},
   "source": [
    "## Trial with edsr"
   ]
  },
  {
   "cell_type": "code",
   "execution_count": 7,
   "metadata": {},
   "outputs": [],
   "source": [
    "model = build_edsr(image_size, scale_factor=4)"
   ]
  },
  {
   "cell_type": "code",
   "execution_count": 8,
   "metadata": {},
   "outputs": [],
   "source": [
    "model.compile(optimizer='adam', loss='mse')"
   ]
  },
  {
   "cell_type": "code",
   "execution_count": null,
   "metadata": {},
   "outputs": [
    {
     "name": "stdout",
     "output_type": "stream",
     "text": [
      "Epoch 1/50\n",
      "\u001b[1m40/40\u001b[0m \u001b[32m━━━━━━━━━━━━━━━━━━━━\u001b[0m\u001b[37m\u001b[0m \u001b[1m220s\u001b[0m 5s/step - loss: 15899.9326\n",
      "Epoch 2/50\n"
     ]
    },
    {
     "name": "stderr",
     "output_type": "stream",
     "text": [
      "2024-11-02 18:15:55.074276: I tensorflow/core/framework/local_rendezvous.cc:405] Local rendezvous is aborting with status: OUT_OF_RANGE: End of sequence\n",
      "\t [[{{node IteratorGetNext}}]]\n",
      "/usr/lib/python3.12/contextlib.py:158: UserWarning: Your input ran out of data; interrupting training. Make sure that your dataset or generator can generate at least `steps_per_epoch * epochs` batches. You may need to use the `.repeat()` function when building your dataset.\n",
      "  self.gen.throw(value)\n"
     ]
    },
    {
     "name": "stdout",
     "output_type": "stream",
     "text": [
      "\u001b[1m40/40\u001b[0m \u001b[32m━━━━━━━━━━━━━━━━━━━━\u001b[0m\u001b[37m\u001b[0m \u001b[1m202s\u001b[0m 5s/step - loss: 15715.9795\n",
      "Epoch 3/50\n"
     ]
    },
    {
     "name": "stderr",
     "output_type": "stream",
     "text": [
      "2024-11-02 18:19:16.759359: I tensorflow/core/framework/local_rendezvous.cc:405] Local rendezvous is aborting with status: OUT_OF_RANGE: End of sequence\n",
      "\t [[{{node IteratorGetNext}}]]\n"
     ]
    },
    {
     "name": "stdout",
     "output_type": "stream",
     "text": [
      "\u001b[1m40/40\u001b[0m \u001b[32m━━━━━━━━━━━━━━━━━━━━\u001b[0m\u001b[37m\u001b[0m \u001b[1m210s\u001b[0m 5s/step - loss: 15727.2441\n",
      "Epoch 4/50\n",
      "\u001b[1m40/40\u001b[0m \u001b[32m━━━━━━━━━━━━━━━━━━━━\u001b[0m\u001b[37m\u001b[0m \u001b[1m219s\u001b[0m 5s/step - loss: 15826.5449\n",
      "Epoch 5/50\n"
     ]
    },
    {
     "name": "stderr",
     "output_type": "stream",
     "text": [
      "2024-11-02 18:26:24.910460: I tensorflow/core/framework/local_rendezvous.cc:405] Local rendezvous is aborting with status: OUT_OF_RANGE: End of sequence\n",
      "\t [[{{node IteratorGetNext}}]]\n"
     ]
    },
    {
     "name": "stdout",
     "output_type": "stream",
     "text": [
      "\u001b[1m40/40\u001b[0m \u001b[32m━━━━━━━━━━━━━━━━━━━━\u001b[0m\u001b[37m\u001b[0m \u001b[1m219s\u001b[0m 5s/step - loss: 15705.3027\n",
      "Epoch 6/50\n",
      "\u001b[1m40/40\u001b[0m \u001b[32m━━━━━━━━━━━━━━━━━━━━\u001b[0m\u001b[37m\u001b[0m \u001b[1m224s\u001b[0m 6s/step - loss: 15873.6777\n",
      "Epoch 7/50\n",
      "\u001b[1m24/40\u001b[0m \u001b[32m━━━━━━━━━━━━\u001b[0m\u001b[37m━━━━━━━━\u001b[0m \u001b[1m1:28\u001b[0m 6s/step - loss: 15711.8604"
     ]
    }
   ],
   "source": [
    "model.fit(train_dataset, epochs=50, validation_data=val_dataset)"
   ]
  },
  {
   "cell_type": "code",
   "execution_count": null,
   "metadata": {},
   "outputs": [],
   "source": [
    "model.save('./models_save_states/trial_edst.h5')"
   ]
  },
  {
   "cell_type": "code",
   "execution_count": null,
   "metadata": {},
   "outputs": [],
   "source": [
    "# test the model \n",
    "test_lr_files = [f for f in os.listdir(test_lr_dir) if f.endswith('.png')]\n",
    "test_hr_files = [f for f in os.listdir(test_hr_dir) if f.endswith('.png')]\n",
    "\n",
    "test_dataset = create_test_dataset(test_lr_files, test_hr_files, test_hr_dir, test_lr_dir, image_size, scale_factor)\n",
    "\n",
    "sr_images = []\n",
    "hr_images = []\n",
    "\n",
    "for lr_img, hr_img in test_dataset:\n",
    "    sr_img = model(lr_img)\n",
    "    sr_images.append(sr_img[0].numpy())\n",
    "    hr_images.append(hr_img[0].numpy())\n",
    "\n",
    "# PSNR and SSIM\n",
    "metrics = calculate_metrics(hr_images, sr_images)\n",
    "print(metrics)"
   ]
  },
  {
   "cell_type": "markdown",
   "metadata": {},
   "source": [
    "## Loop over all models"
   ]
  },
  {
   "cell_type": "code",
   "execution_count": 4,
   "metadata": {},
   "outputs": [],
   "source": [
    "model_builders = [build_rdn, build_rrdn, build_edsr, build_srgan_generator, build_real_esrgan_generator,\n",
    "                build_cyclegan_generator, build_drct_decoder]\n",
    "model_names = ['RDN', 'RRDN', 'EDSR', 'SRGAN', 'RealESRGAN', 'CycleGAN', 'DRCT']"
   ]
  },
  {
   "cell_type": "code",
   "execution_count": 5,
   "metadata": {},
   "outputs": [],
   "source": [
    "results_df = pd.DataFrame(columns=['Model', 'Train_Loss', 'Train_PSNR', 'Train_SSIM', \n",
    "                                   'Test_Loss', 'Test_PSNR', 'Test_SSIM'])"
   ]
  },
  {
   "cell_type": "code",
   "execution_count": null,
   "metadata": {},
   "outputs": [],
   "source": [
    "for model_builder, model_name in zip(model_builders, model_names):\n",
    "    print(f'Training {model_name} model...')\n",
    "\n",
    "    if model_name == 'DRCT':\n",
    "        model = build_drct_encoder(image_size, scale_factor=4)\n",
    "        decoder = build_drct_decoder(image_size, scale_factor=4)\n",
    "        # loss function for the encoder and a loss function for the decoder (may need modifications for DRCT) \n",
    "        loss_fn_encoder = tf.keras.losses.MeanSquaredError()\n",
    "        loss_fn_decoder = tf.keras.losses.MeanSquaredError()  \n",
    "        optimizer_encoder = tf.keras.optimizers.Adam(learning_rate=1e-4)\n",
    "        optimizer_decoder = tf.keras.optimizers.Adam(learning_rate=1e-4)\n",
    "\n",
    "        model.compile(optimizer=optimizer_encoder, loss=loss_fn_encoder)\n",
    "        decoder.compile(optimizer=optimizer_decoder, loss=loss_fn_decoder)\n",
    "    \n",
    "        model = tf.keras.models.Sequential([model, decoder])\n",
    "        model.compile(optimizer='adam', loss='mse')\n",
    "\n",
    "    else:\n",
    "        model = model_builder(image_size, scale_factor=4)\n",
    "        # Loss and Optimizer (shared for all models except DRCT)\n",
    "        loss_fn = tf.keras.losses.MeanSquaredError() \n",
    "        optimizer = tf.keras.optimizers.Adam(learning_rate=1e-4)\n",
    "        model.compile(optimizer=optimizer, loss=loss_fn)  \n",
    "\n",
    "    model.fit(train_dataset, epochs=50, validation_data=val_dataset)\n",
    "\n",
    "    print(f'Evaluating {model_name} model...')\n",
    "\n",
    "    # evaluate on training data\n",
    "    train_metrics = {'Loss': [], 'PSNR': [], 'SSIM': []}\n",
    "    for eval_lr_batch, eval_hr_batch in train_dataset:\n",
    "        eval_sr_batch = model.predict(eval_lr_batch)\n",
    "        train_metrics['Loss'].append(loss_fn(eval_hr_batch, eval_sr_batch).numpy())\n",
    "        train_metrics['PSNR'].append(psnr(eval_hr_batch, eval_sr_batch, max_val=1.0).numpy())\n",
    "        train_metrics['SSIM'].append(ssim(eval_hr_batch, eval_sr_batch, max_val=1.0).numpy())\n",
    "\n",
    "    # evaluate on test data\n",
    "    test_metrics = {'Loss': [], 'PSNR': [], 'SSIM': []}\n",
    "    for eval_lr_batch, eval_hr_batch in test_dataset:\n",
    "        eval_sr_batch = model.predict(eval_lr_batch)\n",
    "        test_metrics['Loss'].append(loss_fn(eval_hr_batch, eval_sr_batch).numpy())\n",
    "        test_metrics['PSNR'].append(psnr(eval_hr_batch, eval_sr_batch, max_val=1.0).numpy())\n",
    "        test_metrics['SSIM'].append(ssim(eval_hr_batch, eval_sr_batch, max_val=1.0).numpy())\n",
    "    \n",
    "    results_df = results_df.append({\n",
    "        'Model': model_name,\n",
    "        'Train_Loss': np.mean(train_metrics['Loss']),\n",
    "        'Train_PSNR': np.mean(train_metrics['PSNR']),\n",
    "        'Train_SSIM': np.mean(train_metrics['SSIM']),\n",
    "        'Test_Loss': np.mean(test_metrics['Loss']),\n",
    "        'Test_PSNR': np.mean(test_metrics['PSNR']),\n",
    "        'Test_SSIM': np.mean(test_metrics['SSIM'])\n",
    "    }, ignore_index=True)\n",
    "\n",
    "    # visualize the output on a single image\n",
    "    eval_lr_batch, eval_hr_batch = next(iter(train_dataset))\n",
    "    eval_sr_batch = model.predict(eval_lr_batch)\n",
    "\n",
    "    plt.figure(figsize=(15, 15))\n",
    "    plt.subplot(1, 3, 1)\n",
    "    plt.imshow(eval_lr_batch[0])\n",
    "    plt.title('Low-Resolution Input')\n",
    "    plt.subplot(1, 3, 2)\n",
    "    plt.imshow(eval_sr_batch[0])\n",
    "    plt.title(f'{model_name} Output')\n",
    "    plt.subplot(1, 3, 3)\n",
    "    plt.imshow(eval_hr_batch[0])\n",
    "    plt.title('High-Resolution Ground Truth')\n",
    "    plt.show()\n",
    "\n",
    "    model.save(f'./models_save_states/{model_name}.h5')"
   ]
  },
  {
   "cell_type": "code",
   "execution_count": null,
   "metadata": {},
   "outputs": [],
   "source": [
    "print(\"\\nModel Performance Comparison:\")\n",
    "print(results_df.to_string(index=False))"
   ]
  },
  {
   "cell_type": "code",
   "execution_count": null,
   "metadata": {},
   "outputs": [],
   "source": [
    "# comparative metrics\n",
    "plt.figure(figsize=(15, 5))\n",
    "\n",
    "# PSNR comparison\n",
    "plt.subplot(1, 3, 1)\n",
    "plt.bar(results_df['Model'], results_df['Test_PSNR'])\n",
    "plt.title('PSNR Comparison')\n",
    "plt.xticks(rotation=45)\n",
    "\n",
    "# SSIM comparison\n",
    "plt.subplot(1, 3, 2)\n",
    "plt.bar(results_df['Model'], results_df['Test_SSIM'])\n",
    "plt.title('SSIM Comparison')\n",
    "plt.xticks(rotation=45)\n",
    "\n",
    "# Loss comparison\n",
    "plt.subplot(1, 3, 3)\n",
    "plt.bar(results_df['Model'], results_df['Test_Loss'])\n",
    "plt.title('Loss Comparison')\n",
    "plt.xticks(rotation=45)\n",
    "\n",
    "plt.tight_layout()\n",
    "plt.show()"
   ]
  }
 ],
 "metadata": {
  "kernelspec": {
   "display_name": "super_res",
   "language": "python",
   "name": "python3"
  },
  "language_info": {
   "codemirror_mode": {
    "name": "ipython",
    "version": 3
   },
   "file_extension": ".py",
   "mimetype": "text/x-python",
   "name": "python",
   "nbconvert_exporter": "python",
   "pygments_lexer": "ipython3",
   "version": "3.12.3"
  }
 },
 "nbformat": 4,
 "nbformat_minor": 2
}
